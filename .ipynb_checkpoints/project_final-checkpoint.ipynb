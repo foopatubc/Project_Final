{
 "cells": [
  {
   "cell_type": "markdown",
   "id": "90e463c8-5cdf-4514-b51f-6f03f77820d0",
   "metadata": {},
   "source": [
    "# Title"
   ]
  },
  {
   "cell_type": "markdown",
   "id": "7dca5406-2311-4bd9-b040-06003c09967b",
   "metadata": {},
   "source": [
    "## Introduction"
   ]
  },
  {
   "cell_type": "markdown",
   "id": "ccbbe266-c380-4d89-bde1-2061853d46b9",
   "metadata": {},
   "source": [
    "## Methods and Results"
   ]
  },
  {
   "cell_type": "markdown",
   "id": "31a36bbc-5c54-4a10-9058-1d1d6aad7bbc",
   "metadata": {},
   "source": [
    "## Discussion"
   ]
  },
  {
   "cell_type": "markdown",
   "id": "2855ba00-8507-4bee-93f7-180e99ba0523",
   "metadata": {},
   "source": [
    "## References"
   ]
  },
  {
   "cell_type": "markdown",
   "id": "fda50512-8c92-4b30-a2f8-e9a0599167af",
   "metadata": {},
   "source": [
    "# Computation: "
   ]
  },
  {
   "cell_type": "code",
   "execution_count": 3,
   "id": "6c64a2c2-9b37-46c8-a3d9-504fa83beff9",
   "metadata": {},
   "outputs": [],
   "source": [
    "import pandas as pd\n",
    "import altair as alt\n",
    "# test push now\n",
    "import numpy as np"
   ]
  },
  {
   "cell_type": "code",
   "execution_count": null,
   "id": "6dedb0a3-b0f5-4322-95b6-595c33a71ba7",
   "metadata": {},
   "outputs": [],
   "source": []
  }
 ],
 "metadata": {
  "kernelspec": {
   "display_name": "Python 3 (ipykernel)",
   "language": "python",
   "name": "python3"
  },
  "language_info": {
   "codemirror_mode": {
    "name": "ipython",
    "version": 3
   },
   "file_extension": ".py",
   "mimetype": "text/x-python",
   "name": "python",
   "nbconvert_exporter": "python",
   "pygments_lexer": "ipython3",
   "version": "3.11.9"
  }
 },
 "nbformat": 4,
 "nbformat_minor": 5
}
