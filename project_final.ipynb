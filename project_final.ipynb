{
 "cells": [
  {
   "cell_type": "markdown",
   "id": "90e463c8-5cdf-4514-b51f-6f03f77820d0",
   "metadata": {},
   "source": [
    "# Title"
   ]
  },
  {
   "cell_type": "markdown",
   "id": "7dca5406-2311-4bd9-b040-06003c09967b",
   "metadata": {},
   "source": [
    "## Introduction"
   ]
  },
  {
   "cell_type": "markdown",
   "id": "29cb82e1-5b62-46f5-9566-8296e54a35a5",
   "metadata": {},
   "source": [
    "Plaicraft is an online Minecraft server provided by a research group from UBC computer science. Players who join the server provide a small amount of information about themselves before they begin to play the game. The server is set up to collect data about each player’s playtime and this is logged within a .csv file titled players.csv. The time played is tabulated with other data such as the gender of each player, their age, their previous experience with the game as well as their participation in the emailing list. The goal of our research group has been to answer the question: what kinds of players are most likely to contribute a large amount of data to the dataset? We go on further to investigate whether the experience of a player can be predicted with a model based on factors such as play time and other variables offered in the data set. We would also like to know how this information can be used to target players that are more likely to contribute more data during recruitment. This is important as the researchers involved with maintaining the Plaicraft server need to know how much to expand the capacity of the server to compensate for more players. The researchers would also be able to gain more players for their efforts by targeting advertisements to players that fit the demographics that seem to contribute the most data of players in the dataset. "
   ]
  },
  {
   "cell_type": "markdown",
   "id": "d610f232-b2f2-4f7d-88b4-46062a24d0bd",
   "metadata": {},
   "source": [
    "### The Data"
   ]
  },
  {
   "cell_type": "markdown",
   "id": "c0df1c24-6133-4f1c-a50b-c32936955038",
   "metadata": {},
   "source": [
    "The chosen dataset, players.csv, details **nine** variables describing  the data of **196** PlaiCraft players. These nine variables provide information on the players': \n",
    "- **experience** - The self-reported level of experience players listed as having when signing up. Experience levels include Beginner, Amateur, Regular, Veteran, and Pro,\n",
    "- **subscribe** - Players' subscription status to email updates about when other players are online on the server,\n",
    "- **hashedEmail** - The players' hashed email address,\n",
    "- **played_hours** - Each player's total playtime in hours,\n",
    "- **name** - The name chosen by the player,\n",
    "- **gender** - The self-reported gender of the player. Players were given the options: Male, Female, Agender, Non-Binary, Two-Spirited, Other, and 'Prefer not to say',\n",
    "- **age** - The self-reported age in years of the player,\n",
    "- **individualId** - The individual ID of the user,\n",
    "- **organizationName** - The name of the organization the player is a part of.\n",
    "\n",
    "To allow for data analysis, this dataset is loaded in using pandas."
   ]
  },
  {
   "cell_type": "markdown",
   "id": "ccbbe266-c380-4d89-bde1-2061853d46b9",
   "metadata": {},
   "source": [
    "## Methods and Results"
   ]
  },
  {
   "cell_type": "markdown",
   "id": "2c72531e-cd8a-470b-a5d0-9a4f2cb295e2",
   "metadata": {},
   "source": [
    "Before any analysis can begin, all nescessary packages must be loaded in. These packages include: altair, numpy, pandas, and sklearn"
   ]
  },
  {
   "cell_type": "code",
   "execution_count": 8,
   "id": "abea5536-efe3-4bf2-9237-42fc7709416c",
   "metadata": {},
   "outputs": [],
   "source": [
    "import altair as alt\n",
    "import numpy as np\n",
    "import pandas as pd\n",
    "from sklearn import set_config\n",
    "from sklearn.linear_model import LinearRegression\n",
    "from sklearn.model_selection import train_test_split\n",
    "from sklearn.metrics import mean_squared_error"
   ]
  },
  {
   "cell_type": "markdown",
   "id": "a876413e-4d19-49b7-9ea1-33ce7edefebf",
   "metadata": {},
   "source": [
    "To ensure our methadology and findings are reporducable, the players.csv dataset is loaded directly from the web. The dataset is saved the variable \"players\""
   ]
  },
  {
   "cell_type": "code",
   "execution_count": 9,
   "id": "2d73c6f8-5457-4266-b684-1b6e55ca8479",
   "metadata": {},
   "outputs": [
    {
     "data": {
      "text/html": [
       "<div>\n",
       "<style scoped>\n",
       "    .dataframe tbody tr th:only-of-type {\n",
       "        vertical-align: middle;\n",
       "    }\n",
       "\n",
       "    .dataframe tbody tr th {\n",
       "        vertical-align: top;\n",
       "    }\n",
       "\n",
       "    .dataframe thead th {\n",
       "        text-align: right;\n",
       "    }\n",
       "</style>\n",
       "<table border=\"1\" class=\"dataframe\">\n",
       "  <thead>\n",
       "    <tr style=\"text-align: right;\">\n",
       "      <th></th>\n",
       "      <th>experience</th>\n",
       "      <th>subscribe</th>\n",
       "      <th>hashedEmail</th>\n",
       "      <th>played_hours</th>\n",
       "      <th>name</th>\n",
       "      <th>gender</th>\n",
       "      <th>age</th>\n",
       "      <th>individualId</th>\n",
       "      <th>organizationName</th>\n",
       "    </tr>\n",
       "  </thead>\n",
       "  <tbody>\n",
       "    <tr>\n",
       "      <th>0</th>\n",
       "      <td>Pro</td>\n",
       "      <td>True</td>\n",
       "      <td>f6daba428a5e19a3d47574858c13550499be23603422e6...</td>\n",
       "      <td>30.3</td>\n",
       "      <td>Morgan</td>\n",
       "      <td>Male</td>\n",
       "      <td>9</td>\n",
       "      <td>NaN</td>\n",
       "      <td>NaN</td>\n",
       "    </tr>\n",
       "    <tr>\n",
       "      <th>1</th>\n",
       "      <td>Veteran</td>\n",
       "      <td>True</td>\n",
       "      <td>f3c813577c458ba0dfef80996f8f32c93b6e8af1fa9397...</td>\n",
       "      <td>3.8</td>\n",
       "      <td>Christian</td>\n",
       "      <td>Male</td>\n",
       "      <td>17</td>\n",
       "      <td>NaN</td>\n",
       "      <td>NaN</td>\n",
       "    </tr>\n",
       "    <tr>\n",
       "      <th>2</th>\n",
       "      <td>Veteran</td>\n",
       "      <td>False</td>\n",
       "      <td>b674dd7ee0d24096d1c019615ce4d12b20fcbff12d79d3...</td>\n",
       "      <td>0.0</td>\n",
       "      <td>Blake</td>\n",
       "      <td>Male</td>\n",
       "      <td>17</td>\n",
       "      <td>NaN</td>\n",
       "      <td>NaN</td>\n",
       "    </tr>\n",
       "  </tbody>\n",
       "</table>\n",
       "</div>"
      ],
      "text/plain": [
       "  experience  subscribe                                        hashedEmail  \\\n",
       "0        Pro       True  f6daba428a5e19a3d47574858c13550499be23603422e6...   \n",
       "1    Veteran       True  f3c813577c458ba0dfef80996f8f32c93b6e8af1fa9397...   \n",
       "2    Veteran      False  b674dd7ee0d24096d1c019615ce4d12b20fcbff12d79d3...   \n",
       "\n",
       "   played_hours       name gender  age  individualId  organizationName  \n",
       "0          30.3     Morgan   Male    9           NaN               NaN  \n",
       "1           3.8  Christian   Male   17           NaN               NaN  \n",
       "2           0.0      Blake   Male   17           NaN               NaN  "
      ]
     },
     "execution_count": 9,
     "metadata": {},
     "output_type": "execute_result"
    }
   ],
   "source": [
    "url = 'https://drive.google.com/file/d/1Mw9vW0hjTJwRWx0bDXiSpYsO3gKogaPz/edit'\n",
    "path = 'https://drive.google.com/uc?export=download&id='+url.split('/')[-2]\n",
    "players = pd.read_csv(path)\n",
    "players.head(3)"
   ]
  },
  {
   "cell_type": "markdown",
   "id": "20852116-f33d-4db3-be4d-256c79be2d7c",
   "metadata": {},
   "source": [
    "Loading this dataset, it is clear that, although the data is tidy, much of the presented variables are irrelevant to answering the proposed questions. To allow for accurate and easily interpretable analysis, the columns for players' name, individual ID, organization name, and hashedEmail will be dropped as they do not include any relevant data for the chosen question as the name and hashed email of players do not provide insight into the \"kind\" of player they are and the individual ID and organization name variables do not include any data.\n",
    "\n",
    "This is done using pandas' drop columns function and the new dataset is save to \"players_clean\""
   ]
  },
  {
   "cell_type": "code",
   "execution_count": 10,
   "id": "83e0ee07-e0c1-44eb-8f01-e88fdc3bd310",
   "metadata": {},
   "outputs": [
    {
     "data": {
      "text/html": [
       "<div>\n",
       "<style scoped>\n",
       "    .dataframe tbody tr th:only-of-type {\n",
       "        vertical-align: middle;\n",
       "    }\n",
       "\n",
       "    .dataframe tbody tr th {\n",
       "        vertical-align: top;\n",
       "    }\n",
       "\n",
       "    .dataframe thead th {\n",
       "        text-align: right;\n",
       "    }\n",
       "</style>\n",
       "<table border=\"1\" class=\"dataframe\">\n",
       "  <thead>\n",
       "    <tr style=\"text-align: right;\">\n",
       "      <th></th>\n",
       "      <th>experience</th>\n",
       "      <th>subscribe</th>\n",
       "      <th>played_hours</th>\n",
       "      <th>name</th>\n",
       "      <th>gender</th>\n",
       "      <th>age</th>\n",
       "    </tr>\n",
       "  </thead>\n",
       "  <tbody>\n",
       "    <tr>\n",
       "      <th>0</th>\n",
       "      <td>Pro</td>\n",
       "      <td>True</td>\n",
       "      <td>30.3</td>\n",
       "      <td>Morgan</td>\n",
       "      <td>Male</td>\n",
       "      <td>9</td>\n",
       "    </tr>\n",
       "    <tr>\n",
       "      <th>1</th>\n",
       "      <td>Veteran</td>\n",
       "      <td>True</td>\n",
       "      <td>3.8</td>\n",
       "      <td>Christian</td>\n",
       "      <td>Male</td>\n",
       "      <td>17</td>\n",
       "    </tr>\n",
       "    <tr>\n",
       "      <th>2</th>\n",
       "      <td>Veteran</td>\n",
       "      <td>False</td>\n",
       "      <td>0.0</td>\n",
       "      <td>Blake</td>\n",
       "      <td>Male</td>\n",
       "      <td>17</td>\n",
       "    </tr>\n",
       "  </tbody>\n",
       "</table>\n",
       "</div>"
      ],
      "text/plain": [
       "  experience  subscribe  played_hours       name gender  age\n",
       "0        Pro       True          30.3     Morgan   Male    9\n",
       "1    Veteran       True           3.8  Christian   Male   17\n",
       "2    Veteran      False           0.0      Blake   Male   17"
      ]
     },
     "execution_count": 10,
     "metadata": {},
     "output_type": "execute_result"
    }
   ],
   "source": [
    "players_clean= players.drop(columns= {\"hashedEmail\", \"individualId\", \"organizationName\"})\n",
    "players_clean.head(3)"
   ]
  },
  {
   "cell_type": "markdown",
   "id": "78ea984d-7938-42fd-9359-4118e818407d",
   "metadata": {},
   "source": [
    "Now that the dataset only includes the data relevant to answering the question \"Which 'kinds' of players are most likely to contribute a large amount of data?\", analysis to identify these \"kinds\" of players can be conducted. The best way to do this is to determine how different variables influence the variable \"played_hours\", as the groups with the greatest play time will contribute the largest amount of data and should thus be targeted for recruiting efforts. \n",
    "\n",
    "Having said that, problems do arise due to individuals misreporting their age. For example, the 196th datapoint has an unrealistic age of 91 years. If these data points are included, this will lead to false data resulting in inaccurate predictions for the age group that contributes the most playtime. For these reasons, only data for ages 15-30 will be used for analysis of the relationship between age and playtime.\n",
    "\n",
    "In addition to the relationship between average age and playtime, playtime will be compared with experience, gender, and subscription status. These comparisons will be done using bar plots."
   ]
  },
  {
   "cell_type": "code",
   "execution_count": 14,
   "id": "7f4292b3-c7c4-4135-a4aa-e95165eb63e3",
   "metadata": {},
   "outputs": [],
   "source": [
    "#Plot Based on Experience\n",
    "player_data_experience_mean = (players_clean.groupby('experience')\n",
    "                        .mean(numeric_only = True) #Taking the mean playtime for individuals of different experience levels.\n",
    "                        .reset_index()\n",
    "                              )\n",
    "\n",
    "player_data_experience_bar = alt.Chart(player_data_experience_mean).mark_bar().encode(\n",
    "    x=alt.X('experience', title = 'Experience Level'),\n",
    "    y=alt.Y('played_hours', title = \"Average Hours Played (Hours)\")\n",
    ").properties(\n",
    "    title= 'Average Number of Hours Played by Different Experience Levels'\n",
    ")"
   ]
  },
  {
   "cell_type": "code",
   "execution_count": 15,
   "id": "57f3fe04-e55b-4adf-98cf-592dd199b63f",
   "metadata": {},
   "outputs": [
    {
     "data": {
      "text/html": [
       "\n",
       "<style>\n",
       "  #altair-viz-bde3ff24a79b44efa6a83963bd287908.vega-embed {\n",
       "    width: 100%;\n",
       "    display: flex;\n",
       "  }\n",
       "\n",
       "  #altair-viz-bde3ff24a79b44efa6a83963bd287908.vega-embed details,\n",
       "  #altair-viz-bde3ff24a79b44efa6a83963bd287908.vega-embed details summary {\n",
       "    position: relative;\n",
       "  }\n",
       "</style>\n",
       "<div id=\"altair-viz-bde3ff24a79b44efa6a83963bd287908\"></div>\n",
       "<script type=\"text/javascript\">\n",
       "  var VEGA_DEBUG = (typeof VEGA_DEBUG == \"undefined\") ? {} : VEGA_DEBUG;\n",
       "  (function(spec, embedOpt){\n",
       "    let outputDiv = document.currentScript.previousElementSibling;\n",
       "    if (outputDiv.id !== \"altair-viz-bde3ff24a79b44efa6a83963bd287908\") {\n",
       "      outputDiv = document.getElementById(\"altair-viz-bde3ff24a79b44efa6a83963bd287908\");\n",
       "    }\n",
       "    const paths = {\n",
       "      \"vega\": \"https://cdn.jsdelivr.net/npm/vega@5?noext\",\n",
       "      \"vega-lib\": \"https://cdn.jsdelivr.net/npm/vega-lib?noext\",\n",
       "      \"vega-lite\": \"https://cdn.jsdelivr.net/npm/vega-lite@5.20.1?noext\",\n",
       "      \"vega-embed\": \"https://cdn.jsdelivr.net/npm/vega-embed@6?noext\",\n",
       "    };\n",
       "\n",
       "    function maybeLoadScript(lib, version) {\n",
       "      var key = `${lib.replace(\"-\", \"\")}_version`;\n",
       "      return (VEGA_DEBUG[key] == version) ?\n",
       "        Promise.resolve(paths[lib]) :\n",
       "        new Promise(function(resolve, reject) {\n",
       "          var s = document.createElement('script');\n",
       "          document.getElementsByTagName(\"head\")[0].appendChild(s);\n",
       "          s.async = true;\n",
       "          s.onload = () => {\n",
       "            VEGA_DEBUG[key] = version;\n",
       "            return resolve(paths[lib]);\n",
       "          };\n",
       "          s.onerror = () => reject(`Error loading script: ${paths[lib]}`);\n",
       "          s.src = paths[lib];\n",
       "        });\n",
       "    }\n",
       "\n",
       "    function showError(err) {\n",
       "      outputDiv.innerHTML = `<div class=\"error\" style=\"color:red;\">${err}</div>`;\n",
       "      throw err;\n",
       "    }\n",
       "\n",
       "    function displayChart(vegaEmbed) {\n",
       "      vegaEmbed(outputDiv, spec, embedOpt)\n",
       "        .catch(err => showError(`Javascript Error: ${err.message}<br>This usually means there's a typo in your chart specification. See the javascript console for the full traceback.`));\n",
       "    }\n",
       "\n",
       "    if(typeof define === \"function\" && define.amd) {\n",
       "      requirejs.config({paths});\n",
       "      require([\"vega-embed\"], displayChart, err => showError(`Error loading script: ${err.message}`));\n",
       "    } else {\n",
       "      maybeLoadScript(\"vega\", \"5\")\n",
       "        .then(() => maybeLoadScript(\"vega-lite\", \"5.20.1\"))\n",
       "        .then(() => maybeLoadScript(\"vega-embed\", \"6\"))\n",
       "        .catch(showError)\n",
       "        .then(() => displayChart(vegaEmbed));\n",
       "    }\n",
       "  })({\"config\": {\"view\": {\"continuousWidth\": 300, \"continuousHeight\": 300}}, \"data\": {\"name\": \"data-d0bc073bc8eb8553001673785276d60b\"}, \"mark\": {\"type\": \"bar\"}, \"encoding\": {\"x\": {\"field\": \"experience\", \"title\": \"Experience Level\", \"type\": \"nominal\"}, \"y\": {\"field\": \"played_hours\", \"title\": \"Average Hours Played (Hours)\", \"type\": \"quantitative\"}}, \"title\": \"Average Number of Hours Played by Different Experience Levels\", \"$schema\": \"https://vega.github.io/schema/vega-lite/v5.20.1.json\", \"datasets\": {\"data-d0bc073bc8eb8553001673785276d60b\": [{\"experience\": \"Amateur\", \"subscribe\": 0.7142857142857143, \"played_hours\": 6.017460317460317, \"age\": 20.253968253968253}, {\"experience\": \"Beginner\", \"subscribe\": 0.7714285714285715, \"played_hours\": 1.2485714285714287, \"age\": 21.65714285714286}, {\"experience\": \"Pro\", \"subscribe\": 0.7142857142857143, \"played_hours\": 2.6, \"age\": 22.214285714285715}, {\"experience\": \"Regular\", \"subscribe\": 0.8055555555555556, \"played_hours\": 18.208333333333332, \"age\": 22.77777777777778}, {\"experience\": \"Veteran\", \"subscribe\": 0.6875, \"played_hours\": 0.6479166666666667, \"age\": 20.958333333333332}]}}, {\"mode\": \"vega-lite\"});\n",
       "</script>"
      ],
      "text/plain": [
       "alt.Chart(...)"
      ]
     },
     "metadata": {},
     "output_type": "display_data"
    }
   ],
   "source": [
    "display(player_data_experience_bar)"
   ]
  },
  {
   "cell_type": "code",
   "execution_count": 16,
   "id": "30a08d5f-f76d-40ef-a012-ae28485ba4b8",
   "metadata": {},
   "outputs": [],
   "source": [
    "#Plot Based on Age\n",
    "player_data_age_mean = (players_clean[(players_clean[\"age\"] >= 15) & (players_clean[\"age\"] <= 30)]\n",
    "                        .groupby('age')\n",
    "                        .mean(numeric_only = True) #Taking the mean playtime of players with different ages between 15 and 30\n",
    "                        .reset_index()\n",
    "                       )\n",
    "\n",
    "\n",
    "player_data_age_bar = alt.Chart(player_data_age_mean).mark_bar().encode(\n",
    "    x=alt.X('age', title = 'Age of Players (Years)'),\n",
    "    y=alt.Y('played_hours', title = \"Average Hours Played (Hours)\")\n",
    ").properties(\n",
    "    title= 'Average Number of Hours Played by Players of Different Ages'\n",
    ")"
   ]
  },
  {
   "cell_type": "code",
   "execution_count": 17,
   "id": "60ea3941-dab7-4a32-940f-12c40ca65708",
   "metadata": {},
   "outputs": [
    {
     "data": {
      "text/html": [
       "\n",
       "<style>\n",
       "  #altair-viz-4ded72cc732e44e7b43fe86259e3e530.vega-embed {\n",
       "    width: 100%;\n",
       "    display: flex;\n",
       "  }\n",
       "\n",
       "  #altair-viz-4ded72cc732e44e7b43fe86259e3e530.vega-embed details,\n",
       "  #altair-viz-4ded72cc732e44e7b43fe86259e3e530.vega-embed details summary {\n",
       "    position: relative;\n",
       "  }\n",
       "</style>\n",
       "<div id=\"altair-viz-4ded72cc732e44e7b43fe86259e3e530\"></div>\n",
       "<script type=\"text/javascript\">\n",
       "  var VEGA_DEBUG = (typeof VEGA_DEBUG == \"undefined\") ? {} : VEGA_DEBUG;\n",
       "  (function(spec, embedOpt){\n",
       "    let outputDiv = document.currentScript.previousElementSibling;\n",
       "    if (outputDiv.id !== \"altair-viz-4ded72cc732e44e7b43fe86259e3e530\") {\n",
       "      outputDiv = document.getElementById(\"altair-viz-4ded72cc732e44e7b43fe86259e3e530\");\n",
       "    }\n",
       "    const paths = {\n",
       "      \"vega\": \"https://cdn.jsdelivr.net/npm/vega@5?noext\",\n",
       "      \"vega-lib\": \"https://cdn.jsdelivr.net/npm/vega-lib?noext\",\n",
       "      \"vega-lite\": \"https://cdn.jsdelivr.net/npm/vega-lite@5.20.1?noext\",\n",
       "      \"vega-embed\": \"https://cdn.jsdelivr.net/npm/vega-embed@6?noext\",\n",
       "    };\n",
       "\n",
       "    function maybeLoadScript(lib, version) {\n",
       "      var key = `${lib.replace(\"-\", \"\")}_version`;\n",
       "      return (VEGA_DEBUG[key] == version) ?\n",
       "        Promise.resolve(paths[lib]) :\n",
       "        new Promise(function(resolve, reject) {\n",
       "          var s = document.createElement('script');\n",
       "          document.getElementsByTagName(\"head\")[0].appendChild(s);\n",
       "          s.async = true;\n",
       "          s.onload = () => {\n",
       "            VEGA_DEBUG[key] = version;\n",
       "            return resolve(paths[lib]);\n",
       "          };\n",
       "          s.onerror = () => reject(`Error loading script: ${paths[lib]}`);\n",
       "          s.src = paths[lib];\n",
       "        });\n",
       "    }\n",
       "\n",
       "    function showError(err) {\n",
       "      outputDiv.innerHTML = `<div class=\"error\" style=\"color:red;\">${err}</div>`;\n",
       "      throw err;\n",
       "    }\n",
       "\n",
       "    function displayChart(vegaEmbed) {\n",
       "      vegaEmbed(outputDiv, spec, embedOpt)\n",
       "        .catch(err => showError(`Javascript Error: ${err.message}<br>This usually means there's a typo in your chart specification. See the javascript console for the full traceback.`));\n",
       "    }\n",
       "\n",
       "    if(typeof define === \"function\" && define.amd) {\n",
       "      requirejs.config({paths});\n",
       "      require([\"vega-embed\"], displayChart, err => showError(`Error loading script: ${err.message}`));\n",
       "    } else {\n",
       "      maybeLoadScript(\"vega\", \"5\")\n",
       "        .then(() => maybeLoadScript(\"vega-lite\", \"5.20.1\"))\n",
       "        .then(() => maybeLoadScript(\"vega-embed\", \"6\"))\n",
       "        .catch(showError)\n",
       "        .then(() => displayChart(vegaEmbed));\n",
       "    }\n",
       "  })({\"config\": {\"view\": {\"continuousWidth\": 300, \"continuousHeight\": 300}}, \"data\": {\"name\": \"data-091994dae3abccb7e4558751e072667a\"}, \"mark\": {\"type\": \"bar\"}, \"encoding\": {\"x\": {\"field\": \"age\", \"title\": \"Age of Players (Years)\", \"type\": \"quantitative\"}, \"y\": {\"field\": \"played_hours\", \"title\": \"Average Hours Played (Hours)\", \"type\": \"quantitative\"}}, \"title\": \"Average Number of Hours Played by Players of Different Ages\", \"$schema\": \"https://vega.github.io/schema/vega-lite/v5.20.1.json\", \"datasets\": {\"data-091994dae3abccb7e4558751e072667a\": [{\"age\": 15, \"subscribe\": 1.0, \"played_hours\": 0.1}, {\"age\": 16, \"subscribe\": 1.0, \"played_hours\": 50.03333333333333}, {\"age\": 17, \"subscribe\": 0.7733333333333333, \"played_hours\": 4.757333333333333}, {\"age\": 18, \"subscribe\": 0.2857142857142857, \"played_hours\": 0.2285714285714286}, {\"age\": 19, \"subscribe\": 0.8571428571428571, \"played_hours\": 25.657142857142855}, {\"age\": 20, \"subscribe\": 0.8571428571428571, \"played_hours\": 15.828571428571427}, {\"age\": 21, \"subscribe\": 0.7777777777777778, \"played_hours\": 0.75}, {\"age\": 22, \"subscribe\": 0.7333333333333333, \"played_hours\": 2.4866666666666664}, {\"age\": 23, \"subscribe\": 0.6153846153846154, \"played_hours\": 4.6000000000000005}, {\"age\": 24, \"subscribe\": 0.8, \"played_hours\": 2.92}, {\"age\": 25, \"subscribe\": 0.6666666666666666, \"played_hours\": 0.9666666666666667}, {\"age\": 26, \"subscribe\": 0.5, \"played_hours\": 0.4}, {\"age\": 27, \"subscribe\": 1.0, \"played_hours\": 4.8999999999999995}, {\"age\": 28, \"subscribe\": 0.5, \"played_hours\": 0.3}]}}, {\"mode\": \"vega-lite\"});\n",
       "</script>"
      ],
      "text/plain": [
       "alt.Chart(...)"
      ]
     },
     "metadata": {},
     "output_type": "display_data"
    }
   ],
   "source": [
    "display(player_data_age_bar)"
   ]
  },
  {
   "cell_type": "code",
   "execution_count": 18,
   "id": "fbb6ed5a-0b08-45d3-8fb2-30d9a9a0759c",
   "metadata": {},
   "outputs": [],
   "source": [
    "#Plot Based on Gender\n",
    "player_data_gender_mean = (players_clean.groupby('gender')\n",
    "                        .mean(numeric_only = True) #Taking the mean playtime of players of different genders \n",
    "                        .reset_index()\n",
    "                       )\n",
    "\n",
    "player_data_gender_bar = alt.Chart(player_data_gender_mean).mark_bar().encode(\n",
    "    x=alt.X('gender', title = 'Reported Gender of Players'),\n",
    "    y=alt.Y('played_hours', title = 'Average Hours Played (Hours)')\n",
    ").properties(\n",
    "    title = 'Average Number of Hours Played by Players of Different Genders'\n",
    ")"
   ]
  },
  {
   "cell_type": "code",
   "execution_count": 19,
   "id": "df511fdd-0a2d-45b0-9893-893dc1039f6b",
   "metadata": {},
   "outputs": [
    {
     "data": {
      "text/html": [
       "\n",
       "<style>\n",
       "  #altair-viz-e0f64ad5e8fb42b3b3bbd055065b65c6.vega-embed {\n",
       "    width: 100%;\n",
       "    display: flex;\n",
       "  }\n",
       "\n",
       "  #altair-viz-e0f64ad5e8fb42b3b3bbd055065b65c6.vega-embed details,\n",
       "  #altair-viz-e0f64ad5e8fb42b3b3bbd055065b65c6.vega-embed details summary {\n",
       "    position: relative;\n",
       "  }\n",
       "</style>\n",
       "<div id=\"altair-viz-e0f64ad5e8fb42b3b3bbd055065b65c6\"></div>\n",
       "<script type=\"text/javascript\">\n",
       "  var VEGA_DEBUG = (typeof VEGA_DEBUG == \"undefined\") ? {} : VEGA_DEBUG;\n",
       "  (function(spec, embedOpt){\n",
       "    let outputDiv = document.currentScript.previousElementSibling;\n",
       "    if (outputDiv.id !== \"altair-viz-e0f64ad5e8fb42b3b3bbd055065b65c6\") {\n",
       "      outputDiv = document.getElementById(\"altair-viz-e0f64ad5e8fb42b3b3bbd055065b65c6\");\n",
       "    }\n",
       "    const paths = {\n",
       "      \"vega\": \"https://cdn.jsdelivr.net/npm/vega@5?noext\",\n",
       "      \"vega-lib\": \"https://cdn.jsdelivr.net/npm/vega-lib?noext\",\n",
       "      \"vega-lite\": \"https://cdn.jsdelivr.net/npm/vega-lite@5.20.1?noext\",\n",
       "      \"vega-embed\": \"https://cdn.jsdelivr.net/npm/vega-embed@6?noext\",\n",
       "    };\n",
       "\n",
       "    function maybeLoadScript(lib, version) {\n",
       "      var key = `${lib.replace(\"-\", \"\")}_version`;\n",
       "      return (VEGA_DEBUG[key] == version) ?\n",
       "        Promise.resolve(paths[lib]) :\n",
       "        new Promise(function(resolve, reject) {\n",
       "          var s = document.createElement('script');\n",
       "          document.getElementsByTagName(\"head\")[0].appendChild(s);\n",
       "          s.async = true;\n",
       "          s.onload = () => {\n",
       "            VEGA_DEBUG[key] = version;\n",
       "            return resolve(paths[lib]);\n",
       "          };\n",
       "          s.onerror = () => reject(`Error loading script: ${paths[lib]}`);\n",
       "          s.src = paths[lib];\n",
       "        });\n",
       "    }\n",
       "\n",
       "    function showError(err) {\n",
       "      outputDiv.innerHTML = `<div class=\"error\" style=\"color:red;\">${err}</div>`;\n",
       "      throw err;\n",
       "    }\n",
       "\n",
       "    function displayChart(vegaEmbed) {\n",
       "      vegaEmbed(outputDiv, spec, embedOpt)\n",
       "        .catch(err => showError(`Javascript Error: ${err.message}<br>This usually means there's a typo in your chart specification. See the javascript console for the full traceback.`));\n",
       "    }\n",
       "\n",
       "    if(typeof define === \"function\" && define.amd) {\n",
       "      requirejs.config({paths});\n",
       "      require([\"vega-embed\"], displayChart, err => showError(`Error loading script: ${err.message}`));\n",
       "    } else {\n",
       "      maybeLoadScript(\"vega\", \"5\")\n",
       "        .then(() => maybeLoadScript(\"vega-lite\", \"5.20.1\"))\n",
       "        .then(() => maybeLoadScript(\"vega-embed\", \"6\"))\n",
       "        .catch(showError)\n",
       "        .then(() => displayChart(vegaEmbed));\n",
       "    }\n",
       "  })({\"config\": {\"view\": {\"continuousWidth\": 300, \"continuousHeight\": 300}}, \"data\": {\"name\": \"data-506ff0f738df63f40f31539d779f8ae6\"}, \"mark\": {\"type\": \"bar\"}, \"encoding\": {\"x\": {\"field\": \"gender\", \"title\": \"Reported Gender of Players\", \"type\": \"nominal\"}, \"y\": {\"field\": \"played_hours\", \"title\": \"Average Hours Played (Hours)\", \"type\": \"quantitative\"}}, \"title\": \"Average Number of Hours Played by Players of Different Genders\", \"$schema\": \"https://vega.github.io/schema/vega-lite/v5.20.1.json\", \"datasets\": {\"data-506ff0f738df63f40f31539d779f8ae6\": [{\"gender\": \"Agender\", \"subscribe\": 1.0, \"played_hours\": 6.25, \"age\": 23.5}, {\"gender\": \"Female\", \"subscribe\": 0.7837837837837838, \"played_hours\": 10.635135135135135, \"age\": 21.81081081081081}, {\"gender\": \"Male\", \"subscribe\": 0.75, \"played_hours\": 4.12741935483871, \"age\": 20.20967741935484}, {\"gender\": \"Non-binary\", \"subscribe\": 0.7333333333333333, \"played_hours\": 14.879999999999999, \"age\": 19.066666666666666}, {\"gender\": \"Other\", \"subscribe\": 1.0, \"played_hours\": 0.2, \"age\": 91.0}, {\"gender\": \"Prefer not to say\", \"subscribe\": 0.36363636363636365, \"played_hours\": 0.3727272727272727, \"age\": 21.363636363636363}, {\"gender\": \"Two-Spirited\", \"subscribe\": 0.6666666666666666, \"played_hours\": 0.08333333333333333, \"age\": 33.166666666666664}]}}, {\"mode\": \"vega-lite\"});\n",
       "</script>"
      ],
      "text/plain": [
       "alt.Chart(...)"
      ]
     },
     "metadata": {},
     "output_type": "display_data"
    }
   ],
   "source": [
    "display(player_data_gender_bar)"
   ]
  },
  {
   "cell_type": "code",
   "execution_count": 20,
   "id": "1ef08f2e-5cd0-4c5b-85df-1e4352aff7c3",
   "metadata": {},
   "outputs": [],
   "source": [
    "#Plot Based on Subscription Status\n",
    "player_data_subscribe_mean = (players_clean.groupby('subscribe')\n",
    "                        .mean(numeric_only = True) #taking the mean playtime of players of different subscription statuses\n",
    "                        .reset_index()\n",
    "                          )\n",
    "\n",
    "player_data_subscribe_bar = alt.Chart(player_data_subscribe_mean).mark_bar().encode(\n",
    "    x=alt.X('subscribe', title = 'Subscription Status of Players'),\n",
    "    y=alt.Y('played_hours', title = 'Average Hours Played (Hours)')\n",
    ").properties(\n",
    "    title = 'Average Number of Hours Played by Players of Different Subscription Status'\n",
    ")"
   ]
  },
  {
   "cell_type": "code",
   "execution_count": 21,
   "id": "8420613e-8560-4ec4-8063-fd5cdf1d6a45",
   "metadata": {},
   "outputs": [
    {
     "data": {
      "text/html": [
       "\n",
       "<style>\n",
       "  #altair-viz-728e00a9486d4b7c8ced5a5d52aaafe1.vega-embed {\n",
       "    width: 100%;\n",
       "    display: flex;\n",
       "  }\n",
       "\n",
       "  #altair-viz-728e00a9486d4b7c8ced5a5d52aaafe1.vega-embed details,\n",
       "  #altair-viz-728e00a9486d4b7c8ced5a5d52aaafe1.vega-embed details summary {\n",
       "    position: relative;\n",
       "  }\n",
       "</style>\n",
       "<div id=\"altair-viz-728e00a9486d4b7c8ced5a5d52aaafe1\"></div>\n",
       "<script type=\"text/javascript\">\n",
       "  var VEGA_DEBUG = (typeof VEGA_DEBUG == \"undefined\") ? {} : VEGA_DEBUG;\n",
       "  (function(spec, embedOpt){\n",
       "    let outputDiv = document.currentScript.previousElementSibling;\n",
       "    if (outputDiv.id !== \"altair-viz-728e00a9486d4b7c8ced5a5d52aaafe1\") {\n",
       "      outputDiv = document.getElementById(\"altair-viz-728e00a9486d4b7c8ced5a5d52aaafe1\");\n",
       "    }\n",
       "    const paths = {\n",
       "      \"vega\": \"https://cdn.jsdelivr.net/npm/vega@5?noext\",\n",
       "      \"vega-lib\": \"https://cdn.jsdelivr.net/npm/vega-lib?noext\",\n",
       "      \"vega-lite\": \"https://cdn.jsdelivr.net/npm/vega-lite@5.20.1?noext\",\n",
       "      \"vega-embed\": \"https://cdn.jsdelivr.net/npm/vega-embed@6?noext\",\n",
       "    };\n",
       "\n",
       "    function maybeLoadScript(lib, version) {\n",
       "      var key = `${lib.replace(\"-\", \"\")}_version`;\n",
       "      return (VEGA_DEBUG[key] == version) ?\n",
       "        Promise.resolve(paths[lib]) :\n",
       "        new Promise(function(resolve, reject) {\n",
       "          var s = document.createElement('script');\n",
       "          document.getElementsByTagName(\"head\")[0].appendChild(s);\n",
       "          s.async = true;\n",
       "          s.onload = () => {\n",
       "            VEGA_DEBUG[key] = version;\n",
       "            return resolve(paths[lib]);\n",
       "          };\n",
       "          s.onerror = () => reject(`Error loading script: ${paths[lib]}`);\n",
       "          s.src = paths[lib];\n",
       "        });\n",
       "    }\n",
       "\n",
       "    function showError(err) {\n",
       "      outputDiv.innerHTML = `<div class=\"error\" style=\"color:red;\">${err}</div>`;\n",
       "      throw err;\n",
       "    }\n",
       "\n",
       "    function displayChart(vegaEmbed) {\n",
       "      vegaEmbed(outputDiv, spec, embedOpt)\n",
       "        .catch(err => showError(`Javascript Error: ${err.message}<br>This usually means there's a typo in your chart specification. See the javascript console for the full traceback.`));\n",
       "    }\n",
       "\n",
       "    if(typeof define === \"function\" && define.amd) {\n",
       "      requirejs.config({paths});\n",
       "      require([\"vega-embed\"], displayChart, err => showError(`Error loading script: ${err.message}`));\n",
       "    } else {\n",
       "      maybeLoadScript(\"vega\", \"5\")\n",
       "        .then(() => maybeLoadScript(\"vega-lite\", \"5.20.1\"))\n",
       "        .then(() => maybeLoadScript(\"vega-embed\", \"6\"))\n",
       "        .catch(showError)\n",
       "        .then(() => displayChart(vegaEmbed));\n",
       "    }\n",
       "  })({\"config\": {\"view\": {\"continuousWidth\": 300, \"continuousHeight\": 300}}, \"data\": {\"name\": \"data-b637ec4101289926d0d8db4a9b6fd5c7\"}, \"mark\": {\"type\": \"bar\"}, \"encoding\": {\"x\": {\"field\": \"subscribe\", \"title\": \"Subscription Status of Players\", \"type\": \"nominal\"}, \"y\": {\"field\": \"played_hours\", \"title\": \"Average Hours Played (Hours)\", \"type\": \"quantitative\"}}, \"title\": \"Average Number of Hours Played by Players of Different Subscription Status\", \"$schema\": \"https://vega.github.io/schema/vega-lite/v5.20.1.json\", \"datasets\": {\"data-b637ec4101289926d0d8db4a9b6fd5c7\": [{\"subscribe\": false, \"played_hours\": 0.5019230769230769, \"age\": 22.98076923076923}, {\"subscribe\": true, \"played_hours\": 7.7756944444444445, \"age\": 20.666666666666668}]}}, {\"mode\": \"vega-lite\"});\n",
       "</script>"
      ],
      "text/plain": [
       "alt.Chart(...)"
      ]
     },
     "metadata": {},
     "output_type": "display_data"
    }
   ],
   "source": [
    "display(player_data_subscribe_bar)"
   ]
  },
  {
   "cell_type": "markdown",
   "id": "31a36bbc-5c54-4a10-9058-1d1d6aad7bbc",
   "metadata": {},
   "source": [
    "## Discussion"
   ]
  },
  {
   "cell_type": "markdown",
   "id": "2855ba00-8507-4bee-93f7-180e99ba0523",
   "metadata": {},
   "source": [
    "## References"
   ]
  },
  {
   "cell_type": "markdown",
   "id": "7c95dd32-6fdc-46d1-bcb0-0b0ed608b547",
   "metadata": {},
   "source": [
    "# Plan:\n",
    "\n",
    "## Step 1: Model Which age of each gender plays the most\n",
    "## Step 1.5: Write, write, write.\n",
    "## Step 2: Bar plot, y axis played hours, x axis a mix of variables attained from the model"
   ]
  },
  {
   "cell_type": "markdown",
   "id": "fda50512-8c92-4b30-a2f8-e9a0599167af",
   "metadata": {},
   "source": [
    "# Computation: "
   ]
  },
  {
   "cell_type": "markdown",
   "id": "f02724a0-8e47-4183-ad7d-86ef46f12857",
   "metadata": {},
   "source": [
    "something something, first we must pull the required dataset from the web."
   ]
  },
  {
   "cell_type": "code",
   "execution_count": 13,
   "id": "299e477a-3a62-4a9b-b9b1-506f49b29658",
   "metadata": {},
   "outputs": [],
   "source": [
    "#url = 'https://drive.google.com/file/d/1Mw9vW0hjTJwRWx0bDXiSpYsO3gKogaPz/edit'\n",
    "#path = 'https://drive.google.com/uc?export=download&id='+url.split('/')[-2]\n",
    "#df = pd.read_csv(path)\n",
    "#df"
   ]
  },
  {
   "cell_type": "code",
   "execution_count": null,
   "id": "4c084190-0598-4970-be15-f96036b19100",
   "metadata": {},
   "outputs": [],
   "source": []
  },
  {
   "cell_type": "code",
   "execution_count": null,
   "id": "c03bfb95-9eca-4ee8-9914-d83ce82ccf63",
   "metadata": {},
   "outputs": [],
   "source": []
  },
  {
   "cell_type": "code",
   "execution_count": null,
   "id": "ce3a8625-e003-4eef-b02a-366e8c164107",
   "metadata": {},
   "outputs": [],
   "source": []
  }
 ],
 "metadata": {
  "kernelspec": {
   "display_name": "Python 3 (ipykernel)",
   "language": "python",
   "name": "python3"
  },
  "language_info": {
   "codemirror_mode": {
    "name": "ipython",
    "version": 3
   },
   "file_extension": ".py",
   "mimetype": "text/x-python",
   "name": "python",
   "nbconvert_exporter": "python",
   "pygments_lexer": "ipython3",
   "version": "3.11.9"
  }
 },
 "nbformat": 4,
 "nbformat_minor": 5
}
